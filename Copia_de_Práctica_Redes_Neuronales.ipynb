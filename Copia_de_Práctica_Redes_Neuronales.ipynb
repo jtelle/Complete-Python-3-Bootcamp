{
  "nbformat": 4,
  "nbformat_minor": 0,
  "metadata": {
    "colab": {
      "name": "Copia de Práctica Redes Neuronales",
      "provenance": [],
      "collapsed_sections": [
        "BZ7kB-tTseKf",
        "T7FnTUzWn9VK",
        "cJ3fpNOn1fU4"
      ],
      "include_colab_link": true
    },
    "kernelspec": {
      "name": "python3",
      "display_name": "Python 3"
    }
  },
  "cells": [
    {
      "cell_type": "markdown",
      "metadata": {
        "id": "view-in-github",
        "colab_type": "text"
      },
      "source": [
        "<a href=\"https://colab.research.google.com/github/jtelle/Complete-Python-3-Bootcamp/blob/master/Copia_de_Pr%C3%A1ctica_Redes_Neuronales.ipynb\" target=\"_parent\"><img src=\"https://colab.research.google.com/assets/colab-badge.svg\" alt=\"Open In Colab\"/></a>"
      ]
    },
    {
      "cell_type": "markdown",
      "metadata": {
        "id": "aFlbt3gbon-f",
        "colab_type": "text"
      },
      "source": [
        "# **Clasificación de dígitos con Redes Neuronales**\n",
        "\n",
        "\n",
        "\n",
        "La base de datos MNIST es una gran base de datos de dígitos manuscritos que se utiliza comúnmente para la capacitación de varios sistemas de procesamiento de imágenes y las pruebas en el campo del aprendizaje automático.\n",
        "\n",
        "![MNIST](https://camo.githubusercontent.com/d440ac2eee1cb3ea33340a2c5f6f15a0878e9275/687474703a2f2f692e7974696d672e636f6d2f76692f3051493378675875422d512f687164656661756c742e6a7067)\n",
        "\n",
        "\n",
        "\n",
        "Cada imagen tiene 28 x 28 píxeles cuadrados (784 píxeles en total). Se utiliza una división estándar del conjunto de datos para evaluar y comparar modelos, en la que se utilizan 60.000 imágenes para formar un modelo y un conjunto separado de 10.000 imágenes para probarlo.\n",
        "\n"
      ]
    },
    {
      "cell_type": "markdown",
      "metadata": {
        "id": "-_aOIVIzpoiE",
        "colab_type": "text"
      },
      "source": [
        "**Carga de datos**"
      ]
    },
    {
      "cell_type": "markdown",
      "metadata": {
        "id": "bWnIJb0CqiG1",
        "colab_type": "text"
      },
      "source": [
        "La variable X contiene las matrices de los pixeles de los dígitos, mientras que la variable y contiene las etiquetas correspondientes a cada dígito"
      ]
    },
    {
      "cell_type": "code",
      "metadata": {
        "id": "gw-jczKfpnul",
        "colab_type": "code",
        "colab": {}
      },
      "source": [
        "from keras.datasets import mnist\n",
        "(X_train, y_train), (X_test, y_test) = mnist.load_data()"
      ],
      "execution_count": null,
      "outputs": []
    },
    {
      "cell_type": "code",
      "metadata": {
        "id": "yudOvotZlaeS",
        "colab_type": "code",
        "colab": {}
      },
      "source": [
        "len(X_train)"
      ],
      "execution_count": null,
      "outputs": []
    },
    {
      "cell_type": "code",
      "metadata": {
        "id": "mno3w09Ip39Q",
        "colab_type": "code",
        "colab": {}
      },
      "source": [
        "len(X_test)"
      ],
      "execution_count": null,
      "outputs": []
    },
    {
      "cell_type": "code",
      "metadata": {
        "id": "1flLirOfp5fn",
        "colab_type": "code",
        "colab": {}
      },
      "source": [
        "X_test[0].shape"
      ],
      "execution_count": null,
      "outputs": []
    },
    {
      "cell_type": "markdown",
      "metadata": {
        "id": "dX71rEhjqwYD",
        "colab_type": "text"
      },
      "source": [
        "Vamos a visualizar la primera imagen del conjunto de entrenamiento\n"
      ]
    },
    {
      "cell_type": "code",
      "metadata": {
        "id": "uTBgxPgHq26z",
        "colab_type": "code",
        "colab": {}
      },
      "source": [
        "import matplotlib.pyplot as plt\n",
        "plt.imshow(X_train[0], 'gray')\n",
        "print(\"Digit class:\", y_train[0])"
      ],
      "execution_count": null,
      "outputs": []
    },
    {
      "cell_type": "markdown",
      "metadata": {
        "id": "y0AmAiCm12mB",
        "colab_type": "text"
      },
      "source": [
        "Utiliza esta celda para dibujar algún otro dígito del conjunto de entrenamiento junto con su etiqueta\n"
      ]
    },
    {
      "cell_type": "code",
      "metadata": {
        "id": "EctIk_XXrA4j",
        "colab_type": "code",
        "colab": {}
      },
      "source": [
        "# Introduce tu código\n"
      ],
      "execution_count": null,
      "outputs": []
    },
    {
      "cell_type": "markdown",
      "metadata": {
        "id": "nUnDJE6hrXls",
        "colab_type": "text"
      },
      "source": [
        "Antes de construir modelos de redes neuronales vamos a normalizar los datos. Al ser una imagen en escala de grises, basta por dividir entre 255 para que todos los valores estén comprendidos en el intervalo [0,1]"
      ]
    },
    {
      "cell_type": "code",
      "metadata": {
        "id": "w58cUbs5rIor",
        "colab_type": "code",
        "colab": {}
      },
      "source": [
        "X_train = X_train.astype('float32')/255"
      ],
      "execution_count": null,
      "outputs": []
    },
    {
      "cell_type": "markdown",
      "metadata": {
        "id": "3hyhQ8pB17E4",
        "colab_type": "text"
      },
      "source": [
        "Realiza la misma operación con el conjunto de test"
      ]
    },
    {
      "cell_type": "code",
      "metadata": {
        "id": "827v7wA5rk6-",
        "colab_type": "code",
        "colab": {}
      },
      "source": [
        "# Introduce tu código\n"
      ],
      "execution_count": null,
      "outputs": []
    },
    {
      "cell_type": "markdown",
      "metadata": {
        "id": "1hn2JzLVr3L8",
        "colab_type": "text"
      },
      "source": [
        "Para la variable de salida, tenemos que codificarla con el método 'one hot encoding'"
      ]
    },
    {
      "cell_type": "code",
      "metadata": {
        "id": "ZgXDpt0zrtxe",
        "colab_type": "code",
        "colab": {}
      },
      "source": [
        "from keras.utils import np_utils\n",
        "Y_train = np_utils.to_categorical(y_train, 10) # We have 10 classes to codify"
      ],
      "execution_count": null,
      "outputs": []
    },
    {
      "cell_type": "code",
      "metadata": {
        "id": "8u0sMeUjrodm",
        "colab_type": "code",
        "colab": {}
      },
      "source": [
        "y_train, Y_train"
      ],
      "execution_count": null,
      "outputs": []
    },
    {
      "cell_type": "markdown",
      "metadata": {
        "id": "WpW79o0H1-IW",
        "colab_type": "text"
      },
      "source": [
        "Realiza la misma operación con el conjunto de test"
      ]
    },
    {
      "cell_type": "code",
      "metadata": {
        "id": "wy-QRtElsLeI",
        "colab_type": "code",
        "colab": {}
      },
      "source": [
        "# Introduce tu código\n"
      ],
      "execution_count": null,
      "outputs": []
    },
    {
      "cell_type": "markdown",
      "metadata": {
        "id": "BZ7kB-tTseKf",
        "colab_type": "text"
      },
      "source": [
        "## 1. Red neuronal de una capa\n",
        "Utilizamos una red secuencial, en la que cada capa es seguida de otra en formato de cadena"
      ]
    },
    {
      "cell_type": "code",
      "metadata": {
        "id": "Xos8xLLjswKV",
        "colab_type": "code",
        "colab": {}
      },
      "source": [
        "from keras.models import Sequential\n",
        "model = Sequential()"
      ],
      "execution_count": null,
      "outputs": []
    },
    {
      "cell_type": "markdown",
      "metadata": {
        "id": "kpJtYisk2BZV",
        "colab_type": "text"
      },
      "source": [
        "Creamos la capa, especificando el número de entradas y salidas de la red"
      ]
    },
    {
      "cell_type": "code",
      "metadata": {
        "id": "j4ckTxIpsyfu",
        "colab_type": "code",
        "colab": {}
      },
      "source": [
        "from keras.layers.core import Dense\n",
        "denselayer = Dense(10, input_shape=(784,))"
      ],
      "execution_count": null,
      "outputs": []
    },
    {
      "cell_type": "markdown",
      "metadata": {
        "id": "1vjcmgzR2DDK",
        "colab_type": "text"
      },
      "source": [
        "Añadimos la capa a la red"
      ]
    },
    {
      "cell_type": "code",
      "metadata": {
        "id": "B_bAWMDN2ErZ",
        "colab_type": "code",
        "colab": {}
      },
      "source": [
        "model.add(denselayer)"
      ],
      "execution_count": null,
      "outputs": []
    },
    {
      "cell_type": "markdown",
      "metadata": {
        "id": "Rx0cVSnU2Giy",
        "colab_type": "text"
      },
      "source": [
        "Añadimos la función de activación softmax a la salida"
      ]
    },
    {
      "cell_type": "code",
      "metadata": {
        "id": "sPh8We0Yvk93",
        "colab_type": "code",
        "colab": {}
      },
      "source": [
        "from keras.layers.core import Activation\n",
        "model.add(Activation('softmax'))"
      ],
      "execution_count": null,
      "outputs": []
    },
    {
      "cell_type": "markdown",
      "metadata": {
        "id": "Rz7OenvL2IyP",
        "colab_type": "text"
      },
      "source": [
        "La definición de la red está completa. Podemos ver una descripción de la misma con el siguiente comando"
      ]
    },
    {
      "cell_type": "code",
      "metadata": {
        "id": "rokoHCFEvrY7",
        "colab_type": "code",
        "colab": {}
      },
      "source": [
        "model.summary()"
      ],
      "execution_count": null,
      "outputs": []
    },
    {
      "cell_type": "markdown",
      "metadata": {
        "id": "iESDmObV2Kx_",
        "colab_type": "text"
      },
      "source": [
        "Tras definir la arquitectura el siguiente paso es compilar la red. Para este paso, hay que especificar la función de error (usaremos 'categorical crossentropy'), el método de optimización (usaremos 'stochastic gradient descent'), y la métrica de desempeño que queremos observar al finalizar"
      ]
    },
    {
      "cell_type": "code",
      "metadata": {
        "id": "sVnRHoQTwRIO",
        "colab_type": "code",
        "colab": {}
      },
      "source": [
        "model.compile(loss='categorical_crossentropy', optimizer='sgd', metrics=['accuracy'])"
      ],
      "execution_count": null,
      "outputs": []
    },
    {
      "cell_type": "markdown",
      "metadata": {
        "id": "mQMkXvVV2YyX",
        "colab_type": "text"
      },
      "source": [
        "A continuación vamos a entrenar la red. Para ello, debemos transformar las matrices de píxeles en vectores, para que puedan utilizarse como entrada en la red neuronal"
      ]
    },
    {
      "cell_type": "code",
      "metadata": {
        "id": "lWKKS0Gt2PWg",
        "colab_type": "code",
        "colab": {}
      },
      "source": [
        "trainvectors = X_train.reshape(60000, 784)"
      ],
      "execution_count": null,
      "outputs": []
    },
    {
      "cell_type": "markdown",
      "metadata": {
        "id": "0C3r8f_02seW",
        "colab_type": "text"
      },
      "source": [
        "Comprobamos que nuestro conjunto de entrenamiento tiene 784 columnas (características) y 60000 filas"
      ]
    },
    {
      "cell_type": "code",
      "metadata": {
        "id": "0elLMjzi2pso",
        "colab_type": "code",
        "colab": {}
      },
      "source": [
        "trainvectors.shape"
      ],
      "execution_count": null,
      "outputs": []
    },
    {
      "cell_type": "markdown",
      "metadata": {
        "id": "QsjyC0513BeJ",
        "colab_type": "text"
      },
      "source": [
        "Realiza la misma operación en el conjunto de test\n"
      ]
    },
    {
      "cell_type": "code",
      "metadata": {
        "id": "x6-uR9wr238o",
        "colab_type": "code",
        "colab": {}
      },
      "source": [
        "# Inserta tu código\n"
      ],
      "execution_count": null,
      "outputs": []
    },
    {
      "cell_type": "markdown",
      "metadata": {
        "id": "CH9nATJ73LOK",
        "colab_type": "text"
      },
      "source": [
        "Entrenamos la red con el comando **fit**\n"
      ]
    },
    {
      "cell_type": "code",
      "metadata": {
        "id": "GhlyPCjd3KdU",
        "colab_type": "code",
        "colab": {}
      },
      "source": [
        "model.fit(\n",
        "    trainvectors, # Training data\n",
        "    Y_train, # Labels of training data\n",
        "    batch_size=128, # Batch size for the optimizer algorithm\n",
        "    epochs=20, # Number of epochs to run the optimizer algorithm\n",
        "    verbose=2 # Level of verbosity of the log messages\n",
        ")"
      ],
      "execution_count": null,
      "outputs": []
    },
    {
      "cell_type": "markdown",
      "metadata": {
        "id": "vFEwJOi9gqJc",
        "colab_type": "text"
      },
      "source": [
        "Una vez entrenada, obtenemos las predicciones para el conjunto de test"
      ]
    },
    {
      "cell_type": "code",
      "metadata": {
        "id": "GuuPINaU4j6P",
        "colab_type": "code",
        "colab": {}
      },
      "source": [
        "preds = model.predict_classes(testvectors)"
      ],
      "execution_count": null,
      "outputs": []
    },
    {
      "cell_type": "markdown",
      "metadata": {
        "id": "e1HWUg2RhkuF",
        "colab_type": "text"
      },
      "source": [
        "Comprobamos, para un ejemplo, si la predicción coincide con la realidad"
      ]
    },
    {
      "cell_type": "code",
      "metadata": {
        "id": "SfMdD0B7gvPB",
        "colab_type": "code",
        "colab": {}
      },
      "source": [
        "plt.imshow(X_test[0], 'gray')\n",
        "print(\"Real class\", y_test[0], \"predicted class\", preds[0])"
      ],
      "execution_count": null,
      "outputs": []
    },
    {
      "cell_type": "markdown",
      "metadata": {
        "id": "IrKRkmgFm355",
        "colab_type": "text"
      },
      "source": [
        "Veamos ejemplos en los que el modelo ha fallado"
      ]
    },
    {
      "cell_type": "code",
      "metadata": {
        "id": "L32l2spBm3Sv",
        "colab_type": "code",
        "colab": {}
      },
      "source": [
        "import numpy as np\n",
        "(fails,) = np.where(y_test != preds)\n",
        "idx = 0\n",
        "plt.imshow(X_test[fails[idx]], 'gray')\n",
        "print(\"Real class\", y_test[fails[idx]], \"predicted class\", preds[fails[idx]])"
      ],
      "execution_count": null,
      "outputs": []
    },
    {
      "cell_type": "markdown",
      "metadata": {
        "id": "aeaa0uf4nNCy",
        "colab_type": "text"
      },
      "source": [
        "Medimos la precisión del clasificador"
      ]
    },
    {
      "cell_type": "code",
      "metadata": {
        "id": "WE5CLCrCnMew",
        "colab_type": "code",
        "colab": {}
      },
      "source": [
        "score = model.evaluate(testvectors, Y_test)\n",
        "print(\"Test loss\", score[0])\n",
        "print(\"Test accuracy\", score[1])"
      ],
      "execution_count": null,
      "outputs": []
    },
    {
      "cell_type": "markdown",
      "metadata": {
        "id": "T7FnTUzWn9VK",
        "colab_type": "text"
      },
      "source": [
        "## 2. Red Neuronal de varias capas (Multilayer Perceptron)\n",
        "Añadimos capas a nuestra red neuronal, con función de activación de tipo sigmoide"
      ]
    },
    {
      "cell_type": "code",
      "metadata": {
        "id": "MvX0uqhYoIPU",
        "colab_type": "code",
        "colab": {}
      },
      "source": [
        "model = Sequential()\n",
        "model.add(Dense(10, input_shape=(784,)))\n",
        "model.add(Activation('sigmoid'))\n",
        "model.add(Dense(10))\n",
        "model.add(Activation('softmax'))\n",
        "\n",
        "model.summary()"
      ],
      "execution_count": null,
      "outputs": []
    },
    {
      "cell_type": "markdown",
      "metadata": {
        "id": "xY8iAvmBoiTT",
        "colab_type": "text"
      },
      "source": [
        "Compilamos y entrenamos la nueva red, evaluando el nuevo desempeño"
      ]
    },
    {
      "cell_type": "code",
      "metadata": {
        "id": "FgoniE9dokeO",
        "colab_type": "code",
        "colab": {}
      },
      "source": [
        "model.compile(loss='categorical_crossentropy', optimizer='sgd', metrics=['accuracy'])\n",
        "model.fit(\n",
        "    trainvectors, # Training data\n",
        "    Y_train, # Labels of training data\n",
        "    batch_size=128, # Batch size for the optimizer algorithm\n",
        "    epochs=20, # Number of epochs to run the optimizer algorithm\n",
        "    verbose=2 # Level of verbosity of the log messages\n",
        ")\n",
        "score = model.evaluate(testvectors, Y_test)\n",
        "print(\"Test loss\", score[0])\n",
        "print(\"Test accuracy\", score[1])"
      ],
      "execution_count": null,
      "outputs": []
    },
    {
      "cell_type": "markdown",
      "metadata": {
        "id": "Me6tP1hIpZkv",
        "colab_type": "text"
      },
      "source": [
        "Para mejorar el desempeño de la red, vamos a incrementar el número de neuronas en las capas ocultas, utilizar la función de activación ReLU y modificar el algoritmo de optimización por *adam* (mejora del algoritmo de gradiente descendente)"
      ]
    },
    {
      "cell_type": "code",
      "metadata": {
        "id": "ds55lyyqora-",
        "colab_type": "code",
        "colab": {}
      },
      "source": [
        "model = Sequential()\n",
        "model.add(Dense(100, input_shape=(784,)))\n",
        "model.add(Activation('relu'))\n",
        "model.add(Dense(10))\n",
        "model.add(Activation('softmax'))"
      ],
      "execution_count": null,
      "outputs": []
    },
    {
      "cell_type": "code",
      "metadata": {
        "id": "34VRqA4cp9Vg",
        "colab_type": "code",
        "colab": {}
      },
      "source": [
        "model.compile(loss='categorical_crossentropy', optimizer='adam', metrics=['accuracy'])\n",
        "model.fit(\n",
        "    trainvectors, # Training data\n",
        "    Y_train, # Labels of training data\n",
        "    batch_size=128, # Batch size for the optimizer algorithm\n",
        "    epochs=20, # Number of epochs to run the optimizer algorithm\n",
        "    verbose=2 # Level of verbosity of the log messages\n",
        ")\n",
        "score = model.evaluate(testvectors, Y_test)\n",
        "print(\"Test loss\", score[0])\n",
        "print(\"Test accuracy\", score[1])"
      ],
      "execution_count": null,
      "outputs": []
    },
    {
      "cell_type": "markdown",
      "metadata": {
        "id": "kUz5iGwgqGhh",
        "colab_type": "text"
      },
      "source": [
        "Define una nueva red con dos capas ocultas, cada una con 512 neuronas y una función de activación ReLU. Para la salida, utiliza la función de activación *softmax*. Utiliza *adam* como algoritmo de optimización y compara el desempeño de esta nueva red con los resultados anteriores"
      ]
    },
    {
      "cell_type": "code",
      "metadata": {
        "id": "65b5VIVsp-GC",
        "colab_type": "code",
        "colab": {}
      },
      "source": [
        "# Introduce tu código\n"
      ],
      "execution_count": null,
      "outputs": []
    },
    {
      "cell_type": "markdown",
      "metadata": {
        "id": "V5Qs26nqqcpT",
        "colab_type": "text"
      },
      "source": [
        "A continuación, vamos a introducir regularización con el método **dropout**. En este ejemplo, creamos una capa dropout, que recibe las salidas de la capa anterior y las asigna a 0 con una probabilidad del 30%\n"
      ]
    },
    {
      "cell_type": "code",
      "metadata": {
        "id": "6Kkwk7KCquvr",
        "colab_type": "code",
        "colab": {}
      },
      "source": [
        "from keras.layers.core import Dropout\n",
        "model = Sequential()\n",
        "model.add(Dense(512, input_shape=(784,)))\n",
        "model.add(Activation('relu'))\n",
        "model.add(Dropout(0.3))\n",
        "model.add(Dense(10))\n",
        "model.add(Activation('softmax'))\n",
        "\n",
        "model.compile(loss='categorical_crossentropy', optimizer='adam', metrics=[\"accuracy\"])\n",
        "model.fit(\n",
        "    trainvectors, # Training data\n",
        "    Y_train, # Labels of training data\n",
        "    batch_size=128, # Batch size for the optimizer algorithm\n",
        "    epochs=20, # Number of epochs to run the optimizer algorithm\n",
        "    verbose=2 # Level of verbosity of the log messages\n",
        ")\n",
        "score = model.evaluate(testvectors, Y_test)\n",
        "print(\"Test loss\", score[0])\n",
        "print(\"Test accuracy\", score[1])"
      ],
      "execution_count": null,
      "outputs": []
    },
    {
      "cell_type": "markdown",
      "metadata": {
        "id": "cJ3fpNOn1fU4",
        "colab_type": "text"
      },
      "source": [
        "## 3. Redes Neuronales Convolucionales\n",
        "Para mejorar el desempeño del clasificador de imágenes, necesitamos redes que consideren los datos de entrada como imágenes, y tengan en cuenta la relación entre los píxeles. Las redes convolutivas son la mejor manera de hacer esto"
      ]
    },
    {
      "cell_type": "markdown",
      "metadata": {
        "id": "mb_LYVPn1zvv",
        "colab_type": "text"
      },
      "source": [
        "Para las redes convolucionales, necesitamos organizar los datos en forma de tensores, con las siguientes dimensiones:  \n",
        "- Índice de la imagen (por ejemplo, la 3ª imagen del dataset)\n",
        "- Índice de la fila\n",
        "- Índice de la columna\n",
        "- Índice del canal RGB\n",
        "\n",
        "En nuestro caso, tenemos imágenes en blanco y negro de 28 filas x 28 columnas "
      ]
    },
    {
      "cell_type": "code",
      "metadata": {
        "id": "Q5A_bOyH1hoK",
        "colab_type": "code",
        "colab": {}
      },
      "source": [
        "traintensor = X_train.reshape(60000, 28, 28, 1)\n",
        "testtensor = X_test.reshape(10000, 28, 28, 1)"
      ],
      "execution_count": null,
      "outputs": []
    },
    {
      "cell_type": "markdown",
      "metadata": {
        "id": "f9E4Ku3D2Tol",
        "colab_type": "text"
      },
      "source": [
        "Cuando definimos una red convolucional, las capas de convolución y pooling trabajan conjuntamente. La manera más habitual de utilizar estas capas es siguiendo el siguiente patrón:\n",
        "- Una capa convolucional con función de activación ReLU\n",
        "- Una capa pooling\n",
        "- Dropout (si queremos introducir regularización)\n",
        "\n",
        "Definimos por tanto nuestra red:"
      ]
    },
    {
      "cell_type": "code",
      "metadata": {
        "id": "Vn3dcxz72SVD",
        "colab_type": "code",
        "colab": {}
      },
      "source": [
        "from keras.layers.convolutional import Convolution2D, MaxPooling2D\n",
        "\n",
        "img_rows = 28\n",
        "img_cols = 28\n",
        "kernel_size = 3 # Size of the kernel for the convolution layers\n",
        "pool_size = 2 # Size of the pooling region for the pooling layers\n",
        "\n",
        "model = Sequential()\n",
        "\n",
        "model.add(Convolution2D(32, # Number convolution channels to generate\n",
        "                        (kernel_size, kernel_size), # Size of convolution kernels\n",
        "                        padding='valid', # Strategy to deal with borders\n",
        "                        input_shape=(img_rows, img_cols, 1))) # Size = image rows x image columns x channels\n",
        "model.add(Activation('relu'))\n",
        "model.add(MaxPooling2D(pool_size=(pool_size, pool_size)))\n",
        "model.add(Dropout(0.25))"
      ],
      "execution_count": null,
      "outputs": []
    },
    {
      "cell_type": "markdown",
      "metadata": {
        "id": "jrPlnbbY20mO",
        "colab_type": "text"
      },
      "source": [
        "Tras las capas convolucionales+pooling, tenemos que transformar el tensor a un vector, de manera que la salida final de la red sea el número de clases (en nuestro caso 10). Para ello creamos una capa de tipo **Flatten**, seguida de una capa de tipo **Dense**"
      ]
    },
    {
      "cell_type": "code",
      "metadata": {
        "id": "2aJ1V9Dm2xXI",
        "colab_type": "code",
        "colab": {}
      },
      "source": [
        "from keras.layers.core import Flatten\n",
        "model.add(Flatten())\n",
        "model.add(Dense(10))\n",
        "model.add(Activation('softmax'))"
      ],
      "execution_count": null,
      "outputs": []
    },
    {
      "cell_type": "markdown",
      "metadata": {
        "id": "CAe8UwXn3GbI",
        "colab_type": "text"
      },
      "source": [
        "A continuación, compilamos y entrenamos nuestra red convolucional"
      ]
    },
    {
      "cell_type": "code",
      "metadata": {
        "id": "EFxQ1OFX3Enz",
        "colab_type": "code",
        "colab": {}
      },
      "source": [
        "model.compile(loss='categorical_crossentropy', optimizer='adam', metrics=[\"accuracy\"])\n",
        "model.fit(\n",
        "    traintensor, # Training data\n",
        "    Y_train, # Labels of training data\n",
        "    batch_size=128, # Batch size for the optimizer algorithm\n",
        "    epochs=20, # Number of epochs to run the optimizer algorithm\n",
        "    verbose=2 # Level of verbosity of the log messages\n",
        ")\n",
        "score = model.evaluate(testtensor, Y_test)\n",
        "print(\"Test loss\", score[0])\n",
        "print(\"Test accuracy\", score[1])"
      ],
      "execution_count": null,
      "outputs": []
    },
    {
      "cell_type": "markdown",
      "metadata": {
        "id": "btCUnllU33Vt",
        "colab_type": "text"
      },
      "source": [
        "Construye y entrena una CNN con las siguientes capas:\n",
        "- Dos capas convolucionales con 32 kernels de tamaño 3x3 y función ReLU\n",
        "- Una Capa MaxPooling de tamaño 2\n",
        "- Un 25% de DropOout\n",
        "- Una capa de tipo Flatten\n",
        "- Una capa densa con 128 neuronas y función ReLU\n",
        "- Un 50% de dropout\n",
        "- Una capa de salida densa con función de activación softmax\n",
        "\n",
        "¿Hay mejora en el desempeño?"
      ]
    },
    {
      "cell_type": "code",
      "metadata": {
        "id": "x1SLr_E_3KrJ",
        "colab_type": "code",
        "colab": {}
      },
      "source": [
        "# Introduce tu código\n"
      ],
      "execution_count": null,
      "outputs": []
    },
    {
      "cell_type": "markdown",
      "metadata": {
        "id": "n5gc2Dge4mBW",
        "colab_type": "text"
      },
      "source": [
        "Por último, probamos la arquitectura **[LeNet](http://yann.lecun.com/exdb/lenet/)**, cuya efectividad ha sido demostrada en este caso particular. Las capas que utiliza son las siguientes: \n",
        "- Capa convolucional con 20 kernels de tamaño 5 y función ReLU\n",
        "- MaxPooling de tamaño 2 y stride 2\n",
        "- 25% Dropout\n",
        "- Capa convolucional con 50 kernels de tamaño 5 y función ReLU\n",
        "- MaxPooling de tamaño 2 y stride 2\n",
        "- 25% Dropout\n",
        "- Capa Flatten\n",
        "- Capa Densa con 500 neuronas y función ReLU\n",
        "- 50% Dropout\n",
        "- Capa Densa con función softmax\n"
      ]
    },
    {
      "cell_type": "code",
      "metadata": {
        "id": "Zb34AACG4_zM",
        "colab_type": "code",
        "colab": {}
      },
      "source": [
        "img_rows = 28\n",
        "img_cols = 28\n",
        "\n",
        "model = Sequential()\n",
        "\n",
        "model.add(Convolution2D(20, (5, 5),\n",
        "                        padding='valid',\n",
        "                        input_shape=(img_rows, img_cols, 1)))\n",
        "model.add(Activation('relu'))\n",
        "model.add(MaxPooling2D(pool_size=(2, 2), strides=(2, 2)))\n",
        "model.add(Dropout(0.25))\n",
        "model.add(Convolution2D(50, (5, 5)))\n",
        "model.add(Activation('relu'))\n",
        "model.add(MaxPooling2D(pool_size=(2, 2), strides=(2, 2)))\n",
        "model.add(Dropout(0.25))\n",
        "model.add(Flatten())\n",
        "model.add(Dense(500))\n",
        "model.add(Activation('relu'))\n",
        "model.add(Dropout(0.5))\n",
        "model.add(Dense(10))\n",
        "model.add(Activation('softmax'))\n",
        "\n",
        "model.compile(loss='categorical_crossentropy', optimizer='adam', metrics=[\"accuracy\"])\n",
        "model.fit(\n",
        "    traintensor, # Training data\n",
        "    Y_train, # Labels of training data\n",
        "    batch_size=128, # Batch size for the optimizer algorithm\n",
        "    epochs=20, # Number of epochs to run the optimizer algorithm\n",
        "    verbose=1 # Level of verbosity of the log messages\n",
        ")\n",
        "score = model.evaluate(testtensor, Y_test)\n",
        "print(\"Test loss\", score[0])\n",
        "print(\"Test accuracy\", score[1])"
      ],
      "execution_count": null,
      "outputs": []
    }
  ]
}